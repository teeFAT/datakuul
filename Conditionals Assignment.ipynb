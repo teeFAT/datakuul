{
 "cells": [
  {
   "cell_type": "markdown",
   "metadata": {},
   "source": [
    "### Assignment \n",
    "1. Please write a program which asks the user for an integer number. If the number is divisible by three, the program should print out Fizz. If the number is divisible by five, the program should print out Buzz. If the number is divisible by both three and five, the program should print out FizzBuzz. Catch any error from the user, especially if the number is not an integer. Remind them to type in a number.\n",
    "\n",
    "2. Please write a program which asks for the user's name. If the name is anything but \"Jerry\", the program then asks for the number of portions and prints out the total cost. The price of a single portion is 5.90.\n",
    "Please see the examples below to guide you:\n",
    "\n",
    "Example 1:\n",
    "Please tell me your name: Kramer\n",
    "How many portions of soup? 2\n",
    "The total cost is 11.8\n",
    "Next please!\n",
    "\n",
    "Example 2:\n",
    "Please tell me your name: Jerry\n",
    "I can't serve anyone called Jerry. Next please!"
   ]
  },
  {
   "cell_type": "markdown",
   "metadata": {},
   "source": [
    "###QUESTION 1"
   ]
  },
  {
   "cell_type": "code",
   "execution_count": null,
   "metadata": {},
   "outputs": [],
   "source": [
    "try: \n",
    "    Number = int(input(\"Please enter your desired number\"))\n",
    "    if Number % 3 == 0 and Number % 5 == 0:\n",
    "        print(\"FizzBuzz\")\n",
    "    else:\n",
    "        if Number % 3 == 0:\n",
    "            print(\"Fizz\")\n",
    "        if Number % 5 == 0:\n",
    "            print(\"Buzz\")\n",
    "except:\n",
    "    print(\"Input a valid Number\")"
   ]
  },
  {
   "cell_type": "markdown",
   "metadata": {},
   "source": [
    "##Question 2"
   ]
  },
  {
   "cell_type": "code",
   "execution_count": 71,
   "metadata": {},
   "outputs": [
    {
     "name": "stdout",
     "output_type": "stream",
     "text": [
      "I can't serve anyone called jerry. Next please!\n"
     ]
    }
   ],
   "source": [
    "username = str(input(\"Please enter your username\"))\n",
    "x = 'jerry'\n",
    "if username != x: \n",
    "        portion = int(input(\"How many portions of soup?\"))\n",
    "        print(portion * 5.90)\n",
    "else:\n",
    "        print(\"I can't serve anyone called jerry. Next please!\")"
   ]
  }
 ],
 "metadata": {
  "kernelspec": {
   "display_name": "Python 3",
   "language": "python",
   "name": "python3"
  },
  "language_info": {
   "codemirror_mode": {
    "name": "ipython",
    "version": 3
   },
   "file_extension": ".py",
   "mimetype": "text/x-python",
   "name": "python",
   "nbconvert_exporter": "python",
   "pygments_lexer": "ipython3",
   "version": "3.9.6"
  }
 },
 "nbformat": 4,
 "nbformat_minor": 2
}
