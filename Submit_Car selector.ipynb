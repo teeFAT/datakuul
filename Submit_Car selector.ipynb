{
 "cells": [
  {
   "cell_type": "markdown",
   "metadata": {},
   "source": [
    "\n",
    "Application recommending Cars to purchase based on user's budget"
   ]
  },
  {
   "cell_type": "code",
   "execution_count": null,
   "metadata": {},
   "outputs": [],
   "source": [
    "try:\n",
    "    budget = int(input(\"Hi, what is your car buying budget?\"))\n",
    "    if budget >= 75000 :\n",
    "            print(\"Excellent, you can get yourself a Tesla\", end='\\n')\n",
    "            print(\"You can always trust Ayodeji Auto depot for your car shopping needs\")\n",
    "    elif budget < 500 :\n",
    "            print(\"You are better off riding a bus, it is more reliable than a £500 car\", end='\\n')\n",
    "            print(\"You can always trust Ayodeji Auto depot for your car shopping needs\")\n",
    "    elif 500 < budget < 75000 :\n",
    "        print(\"You can buy yourself a Toyota Corolla or Something\", end='\\n')\n",
    "        print(\"You can always trust Ayodeji Auto depot for your car shopping needs\")\n",
    "except:\n",
    "    print(\"Please be realistic, you can't buy a car on rainbows and love\", end='\\n')\n",
    "    print(\"You can always trust Ayodeji Auto depot for your car shopping needs\")"
   ]
  }
 ],
 "metadata": {
  "kernelspec": {
   "display_name": "Python 3",
   "language": "python",
   "name": "python3"
  },
  "language_info": {
   "codemirror_mode": {
    "name": "ipython",
    "version": 3
   },
   "file_extension": ".py",
   "mimetype": "text/x-python",
   "name": "python",
   "nbconvert_exporter": "python",
   "pygments_lexer": "ipython3",
   "version": "3.9.6"
  }
 },
 "nbformat": 4,
 "nbformat_minor": 2
}
